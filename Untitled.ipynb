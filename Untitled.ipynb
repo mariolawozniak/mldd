{
 "cells": [
  {
   "cell_type": "code",
   "execution_count": 1,
   "id": "7d9f194c",
   "metadata": {},
   "outputs": [],
   "source": [
    "import numpy\n",
    "import matplotlib"
   ]
  },
  {
   "cell_type": "code",
   "execution_count": 2,
   "id": "3413ff1b",
   "metadata": {},
   "outputs": [
    {
     "name": "stdout",
     "output_type": "stream",
     "text": [
      "README.md           environment-gpu.yml \u001b[34menvironments\u001b[m\u001b[m        \u001b[34mlectures\u001b[m\u001b[m\r\n",
      "Untitled.ipynb      environment.yml     \u001b[34mlabs\u001b[m\u001b[m\r\n"
     ]
    }
   ],
   "source": [
    "!ls"
   ]
  },
  {
   "cell_type": "code",
   "execution_count": 3,
   "id": "a43b9211",
   "metadata": {},
   "outputs": [],
   "source": [
    "import torch_geometric "
   ]
  },
  {
   "cell_type": "code",
   "execution_count": null,
   "id": "2b63470c",
   "metadata": {},
   "outputs": [],
   "source": []
  }
 ],
 "metadata": {
  "kernelspec": {
   "display_name": "Python 3 (ipykernel)",
   "language": "python",
   "name": "python3"
  },
  "language_info": {
   "codemirror_mode": {
    "name": "ipython",
    "version": 3
   },
   "file_extension": ".py",
   "mimetype": "text/x-python",
   "name": "python",
   "nbconvert_exporter": "python",
   "pygments_lexer": "ipython3",
   "version": "3.9.16"
  }
 },
 "nbformat": 4,
 "nbformat_minor": 5
}
