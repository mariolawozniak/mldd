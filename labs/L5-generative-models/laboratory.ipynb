{
 "cells": [
  {
   "attachments": {},
   "cell_type": "markdown",
   "id": "a26cd763",
   "metadata": {},
   "source": [
    "# Introduction to (Deep) Generative Models\n",
    "\n",
    "Generative models are unsupervised ML algorithms, which means that the input data (usually) does not contain labels. Based on the input representation, generative models learn data distribution, which enables generation of novel examples that are similar to those observed in the training.\n",
    "\n",
    "A typical application of generative models is image, text, or compound generation. Several classes of generative models based on neural networks are presented below.\n",
    "\n",
    "1. **Autoencoder** - a model that consists of two networks, an encoder and decoder. The encoder takes the input representation of data and transforms it into a lower-dimensional latent representation (numerical vector). The decoder uses encoded vectors to reconstruct the initial data representation. We can write that $x'=D(E(x))$, and the optimization target is to minimize the difference between the input object $x$ and the reconstructed object $x'$, so the loss function can be $\\mathcal{L}=\\|x-x' \\|_2$ in the case of simple numerical objects as for example images. To make this model generative, the latent space is additionally constrained to follow the Gaussian distribution, i.e. $\\mathcal{L}=\\|x-x' \\|_2 + \\mathcal{L}_{normal}(E(x))$. Then, if we sample a latent vector $z\\sim \\mathcal{N}(0, 1)$ and transform it using the decoder $x'=D(z)$, we will obtain a new generated object.\n",
    "![](https://upload.wikimedia.org/wikipedia/commons/4/4a/VAE_Basic.png)\n",
    "2. **Recurrent neural network (autoregressive modeling)** - a type of neural network in which a partial output is used as the input to the next segment of the network. Recurrent neural networks generate objects by growing object fragments, e.g. texts can be generated word-by-word, and molecules can be created by adding atoms iteratively. The intermediate steps of the generative process are used as the input to the model which decides about the next generation step.\n",
    "![](https://upload.wikimedia.org/wikipedia/commons/5/5f/Gated_Recurrent_Unit.svg)"
   ]
  },
  {
   "attachments": {},
   "cell_type": "markdown",
   "id": "5a1e4a73",
   "metadata": {},
   "source": [
    "# How generative models are used to design new drugs\n",
    "\n",
    "There are two ways in which generative models can be applied in drug design. We can generate compounds from scratch, and we call this process *de novo* drug design. The other application is optimization of existing molecules, e.g. during the **lead optimization** stage of drug discovery where our promising compound (so called lead) is modified to increase the activity or optimize other molecular properties (ADMET).\n",
    "\n",
    "Two types of generators can be used to invent new compounds: those based on **SMILES** and those based on **molecular graphs**. We can generate a SMILES sequence, but this representation is prone to produce invalid molecules (SMILES has a strict grammar), on top of other shortcomings discussed when introducing SMILES predictive models. Graph generation seems more reasonable, but this approach also has some downsides:\n",
    "\n",
    "1. Sequential atom-by-atom generation leads to **incorrect intermediate states**. For example, to generate a ring, we need to first generate a long chain of atoms that is closed in the last step. One possible solution to this problem is fragment-based design where we expand molecules by attaching whole structures (e.g. rings) instead of single atoms.\n",
    "2. Molecular graphs are **discrete structures** meaning that atoms and bonds are defined by binary features. We cannot generate partial bonds or mixed atom symbols. Hence, the continuous output of a neural network needs to be converted to a discrete structure, e.g. an adjacency matrix should be rounded to contain only zeros and ones. By discretizing outputs, we lose differentiability of the network, so we can apply the loss function only to the incorrect continuous representation of the molecule before rounding all the numbers. There are some solutions to this problem, e.g. Gumbel Softmax is a technique that allows to preserve the differentiability of the rounding operation. We can also use reinforcement learning that does not require the network to be differentiable (the gradients are calculated in a different way, based on a reward function).\n",
    "\n",
    "Another factor we need to consider when designing drugs is optimization of molecular properties. Not only do we want to generate correct compounds, but also we need these molecules to be synthesizable and possess all the desirable properties. Tp that end, additional learning terms are often included in the generative process."
   ]
  },
  {
   "attachments": {},
   "cell_type": "markdown",
   "id": "bf3021a0",
   "metadata": {},
   "source": [
    "# SMILES-based generative model: ReLeaSE\n",
    "\n",
    "Code repo: https://github.com/isayev/ReLeaSE ([Paper](https://www.science.org/doi/epdf/10.1126/sciadv.aap7885))\n",
    "\n",
    "**TL;DR**\n",
    "\n",
    "In this paper, a SMILES generator is implemented. Because SMILES follows certain grammar rules, and it is \"almost\" a context-free grammar, for which there exists a pushdown automaton that accepts this grammar. A stack is needed for the model to remember, e.g., opening of parentheses that denote atom branches or numbers that denote ring closures. By adding a stack to a recurrent neural network (e.g. GRU), we can improve the validity of generated SMILES strings. Additionally, molecular properties of the generated compounds can be optimized by employing a predictive model that calculates the value of a reward function. The reward is calculated when the full SMILES string is generated. Model parameters are corrected using reinforcement learning, and more precisely the REINFORCE algorithm."
   ]
  },
  {
   "cell_type": "code",
   "execution_count": 1,
   "id": "2da7cec3",
   "metadata": {},
   "outputs": [
    {
     "name": "stdout",
     "output_type": "stream",
     "text": [
      "fatal: destination path 'ReLeaSE' already exists and is not an empty directory.\n"
     ]
    }
   ],
   "source": [
    "!git clone https://github.com/isayev/ReLeaSE.git"
   ]
  },
  {
   "cell_type": "code",
   "execution_count": 2,
   "id": "58ed6027",
   "metadata": {},
   "outputs": [],
   "source": [
    "import sys\n",
    "sys.path.append('ReLeaSE/release')"
   ]
  },
  {
   "cell_type": "code",
   "execution_count": 3,
   "id": "abd9cd2b",
   "metadata": {},
   "outputs": [],
   "source": [
    "import torch\n",
    "from rdkit import Chem"
   ]
  },
  {
   "cell_type": "code",
   "execution_count": 12,
   "id": "c88db64c",
   "metadata": {},
   "outputs": [],
   "source": [
    "from stackRNN import StackAugmentedRNN\n",
    "from data import GeneratorData\n",
    "\n",
    "use_cuda = False"
   ]
  },
  {
   "cell_type": "code",
   "execution_count": 5,
   "id": "efaf7216",
   "metadata": {},
   "outputs": [
    {
     "name": "stderr",
     "output_type": "stream",
     "text": [
      "Training in progress...:   0%|          | 0/1000 [00:00<?, ?it/s]/Users/mariolawozniak/mldd23/labs/L5-generative-models/ReLeaSE/release/data.py:100: UserWarning: To copy construct from a tensor, it is recommended to use sourceTensor.clone().detach() or sourceTensor.clone().detach().requires_grad_(True), rather than torch.tensor(sourceTensor).\n",
      "  return torch.tensor(tensor)\n",
      "Training in progress...:  10%|█         | 103/1000 [00:03<00:32, 27.21it/s]"
     ]
    },
    {
     "name": "stdout",
     "output_type": "stream",
     "text": [
      "[0m 3s (100 10%) 3.4600]\n",
      "<1roFHB[I6> \n",
      "\n"
     ]
    },
    {
     "name": "stderr",
     "output_type": "stream",
     "text": [
      "Training in progress...:  20%|██        | 204/1000 [00:07<00:31, 25.37it/s]"
     ]
    },
    {
     "name": "stdout",
     "output_type": "stream",
     "text": [
      "[0m 7s (200 20%) 3.5632]\n",
      "<]c+PcIBc1I<e[rB<n> \n",
      "\n"
     ]
    },
    {
     "name": "stderr",
     "output_type": "stream",
     "text": [
      "Training in progress...:  30%|███       | 303/1000 [00:11<00:26, 26.65it/s]"
     ]
    },
    {
     "name": "stdout",
     "output_type": "stream",
     "text": [
      "[0m 11s (300 30%) 3.4465]\n",
      "<O2oe1-I2#> \n",
      "\n"
     ]
    },
    {
     "name": "stderr",
     "output_type": "stream",
     "text": [
      "Training in progress...:  40%|████      | 401/1000 [00:14<00:17, 34.06it/s]"
     ]
    },
    {
     "name": "stdout",
     "output_type": "stream",
     "text": [
      "[0m 14s (400 40%) 3.4835]\n",
      "<NNFreP23(rNN)1BSB7]O=[[[1l3rc(Fsr<S<C2> \n",
      "\n"
     ]
    },
    {
     "name": "stderr",
     "output_type": "stream",
     "text": [
      "Training in progress...:  50%|█████     | 505/1000 [00:17<00:13, 35.68it/s]"
     ]
    },
    {
     "name": "stdout",
     "output_type": "stream",
     "text": [
      "[0m 17s (500 50%) 3.3713]\n",
      "<e]1H> \n",
      "\n"
     ]
    },
    {
     "name": "stderr",
     "output_type": "stream",
     "text": [
      "Training in progress...:  60%|██████    | 602/1000 [00:21<00:15, 26.27it/s]"
     ]
    },
    {
     "name": "stdout",
     "output_type": "stream",
     "text": [
      "[0m 21s (600 60%) 3.4812]\n",
      "<O2o7PrII53> \n",
      "\n"
     ]
    },
    {
     "name": "stderr",
     "output_type": "stream",
     "text": [
      "Training in progress...:  70%|███████   | 703/1000 [00:24<00:10, 27.04it/s]"
     ]
    },
    {
     "name": "stdout",
     "output_type": "stream",
     "text": [
      "[0m 24s (700 70%) 3.3376]\n",
      "<]cSPr636O63n=ooF=<i]CFIoO7#3)<rNAin76n[2eH3#OIOs> \n",
      "\n"
     ]
    },
    {
     "name": "stderr",
     "output_type": "stream",
     "text": [
      "Training in progress...:  80%|████████  | 801/1000 [00:28<00:06, 31.06it/s]"
     ]
    },
    {
     "name": "stdout",
     "output_type": "stream",
     "text": [
      "[0m 28s (800 80%) 3.3618]\n",
      "<r42n-NF#[)Ar6cC4<4[n<3> \n",
      "\n"
     ]
    },
    {
     "name": "stderr",
     "output_type": "stream",
     "text": [
      "Training in progress...:  90%|█████████ | 902/1000 [00:32<00:03, 25.58it/s]"
     ]
    },
    {
     "name": "stdout",
     "output_type": "stream",
     "text": [
      "[0m 32s (900 90%) 3.4415]\n",
      "<+irC2Sr(<lCeOs(O[31++S)55=l2#> \n",
      "\n"
     ]
    },
    {
     "name": "stderr",
     "output_type": "stream",
     "text": [
      "Training in progress...: 100%|██████████| 1000/1000 [00:35<00:00, 28.10it/s]"
     ]
    },
    {
     "name": "stdout",
     "output_type": "stream",
     "text": [
      "[0m 35s (1000 100%) 3.2941]\n",
      "<oN-A7iHnN5#[B#S512i6PIFCrCCNsc6oHi(I[s<CS)B-(1> \n",
      "\n"
     ]
    },
    {
     "name": "stderr",
     "output_type": "stream",
     "text": [
      "\n"
     ]
    },
    {
     "data": {
      "text/plain": [
       "'<1eO==Cr>'"
      ]
     },
     "execution_count": 5,
     "metadata": {},
     "output_type": "execute_result"
    }
   ],
   "source": [
    "hidden_size = 50\n",
    "stack_width = 50\n",
    "stack_depth = 10\n",
    "lr = 0.001\n",
    "optimizer_instance = torch.optim.Adadelta\n",
    "layer_type = 'GRU'\n",
    "\n",
    "gen_data_path = 'ReLeaSE/data/logP_labels.csv'\n",
    "gen_data = GeneratorData(training_data_path=gen_data_path, delimiter=',',\n",
    "                         cols_to_read=[1], keep_header=False)\n",
    "\n",
    "my_generator = StackAugmentedRNN(input_size=gen_data.n_characters,\n",
    "                                 hidden_size=hidden_size,\n",
    "                                 output_size=gen_data.n_characters,\n",
    "                                 layer_type=layer_type,\n",
    "                                 n_layers=1, is_bidirectional=True,\n",
    "                                 has_stack=True,\n",
    "                                 stack_width=stack_width,\n",
    "                                 stack_depth=stack_depth,\n",
    "                                 use_cuda=use_cuda,\n",
    "                                 optimizer_instance=optimizer_instance,\n",
    "                                 lr=lr)\n",
    "if use_cuda:\n",
    "    my_generator = my_generator.cuda()\n",
    "\n",
    "losses = my_generator.fit(gen_data, 1000)\n",
    "\n",
    "my_generator.evaluate(gen_data)"
   ]
  },
  {
   "cell_type": "code",
   "execution_count": 6,
   "id": "e3f567ee",
   "metadata": {},
   "outputs": [],
   "source": [
    "gen_data_path = 'ReLeaSE/data/chembl_22_clean_1576904_sorted_std_final.smi'\n",
    "tokens = ['<', '>', '#', '%', ')', '(', '+', '-', '/', '.', '1', '0', '3', '2', '5', '4', '7',\n",
    "          '6', '9', '8', '=', 'A', '@', 'C', 'B', 'F', 'I', 'H', 'O', 'N', 'P', 'S', '[', ']',\n",
    "          '\\\\', 'c', 'e', 'i', 'l', 'o', 'n', 'p', 's', 'r', '\\n']\n",
    "gen_data = GeneratorData(training_data_path=gen_data_path, delimiter='\\t', \n",
    "                         cols_to_read=[0], keep_header=True, tokens=tokens)\n",
    "\n",
    "model = StackAugmentedRNN(input_size=gen_data.n_characters, \n",
    "                                     hidden_size=1500,\n",
    "                                     output_size=gen_data.n_characters, \n",
    "                                     layer_type='GRU',\n",
    "                                     n_layers=1, is_bidirectional=False, has_stack=True,\n",
    "                                     stack_width=1500, stack_depth=10, \n",
    "                                     use_cuda=use_cuda)\n",
    "\n",
    "if use_cuda:\n",
    "    model.load_model('ReLeaSE/checkpoints/generator/checkpoint_biggest_rnn')\n",
    "else:\n",
    "    weights = torch.load('ReLeaSE/checkpoints/generator/checkpoint_biggest_rnn', map_location=torch.device('cpu'))\n",
    "    model.load_state_dict(weights)"
   ]
  },
  {
   "cell_type": "code",
   "execution_count": 7,
   "id": "cce93bd2",
   "metadata": {},
   "outputs": [
    {
     "name": "stdout",
     "output_type": "stream",
     "text": [
      "Random Smile:  COC(=O)C1=CC(O)C(O)C(C)(C)C1\n"
     ]
    },
    {
     "data": {
      "image/png": "[encoded data removed]",
      "text/plain": [
       "<rdkit.Chem.rdchem.Mol at 0x28a9ec040>"
      ]
     },
     "metadata": {},
     "output_type": "display_data"
    }
   ],
   "source": [
    "smiles = model.evaluate(gen_data)[1:-1]\n",
    "\n",
    "print('Random Smile: ', smiles)\n",
    "mol = Chem.MolFromSmiles(smiles)\n",
    "if mol:\n",
    "    display(mol)\n",
    "else:\n",
    "    print('Invalid SMILES!')"
   ]
  },
  {
   "attachments": {},
   "cell_type": "markdown",
   "id": "03e2874d",
   "metadata": {},
   "source": [
    "# Graph-based generative model: JT-VAE\n",
    "\n",
    "Code repo: https://github.com/Bibyutatsu/FastJTNNpy3 ([Paper](https://arxiv.org/pdf/1802.04364.pdf))\n",
    "\n",
    "**TL;DR**\n",
    "\n",
    "JT-VAE is an autoencoder working on molecular graphs. To facilitate compound generation, structural formulas are converted to so-called junction trees, in which rings are transformed into single nodes. This way, instead of a graph, we obtain a tree structure that can be decoded to a compound. The graph encoder is a graph neural network (MPNN), and the tree encoder is a similar architecture, but only passes messages from the root to the leaves. The tree decoder is a recurrent neural network (GRU) that builds a tree in the DFS order. The graph decoder is used to correctly connect atoms after decoding tree nodes - rings have multiple possible attachment points. To optimize molecular properties, we can use Bayesian search of the encoded latent space."
   ]
  },
  {
   "cell_type": "code",
   "execution_count": 8,
   "id": "135cacdb",
   "metadata": {},
   "outputs": [
    {
     "name": "stdout",
     "output_type": "stream",
     "text": [
      "fatal: destination path 'FastJTNNpy3' already exists and is not an empty directory.\n"
     ]
    }
   ],
   "source": [
    "!git clone https://github.com/Bibyutatsu/FastJTNNpy3.git\n",
    "\n",
    "import sys\n",
    "use_cuda = False\n",
    "sys.path.append('FastJTNNpy3')"
   ]
  },
  {
   "cell_type": "code",
   "execution_count": 9,
   "id": "b68b8fa6",
   "metadata": {},
   "outputs": [],
   "source": [
    "import fnmatch, os\n",
    "\n",
    "if not use_cuda:\n",
    "    for path, dirs, files in os.walk(os.path.abspath(\"FastJTNNpy3\")):\n",
    "        for filename in fnmatch.filter(files, \"*.py\"):\n",
    "            filepath = os.path.join(path, filename)\n",
    "            with open(filepath) as f:\n",
    "                s = f.read()\n",
    "            s = s.replace(\".cuda()\", \"\")\n",
    "            with open(filepath, \"w\") as f:\n",
    "                f.write(s)"
   ]
  },
  {
   "cell_type": "code",
   "execution_count": 10,
   "id": "cfcd9748",
   "metadata": {},
   "outputs": [
    {
     "name": "stderr",
     "output_type": "stream",
     "text": [
      "/opt/homebrew/lib/python3.11/site-packages/torch/nn/_reduction.py:42: UserWarning: size_average and reduce args will be deprecated, please use reduction='sum' instead.\n",
      "  warnings.warn(warning.format(ret))\n"
     ]
    }
   ],
   "source": [
    "from rdkit import Chem\n",
    "import torch\n",
    "\n",
    "from fast_jtnn import *\n",
    "import rdkit\n",
    "\n",
    "def load_model(vocab, model_path, hidden_size=450, latent_size=56, depthT=20, depthG=3, use_cuda=True):\n",
    "    vocab = [x.strip(\"\\r\\n \") for x in open(vocab)] \n",
    "    vocab = Vocab(vocab)\n",
    "\n",
    "    model = JTNNVAE(vocab, hidden_size, latent_size, depthT, depthG)\n",
    "    if use_cuda:\n",
    "        dict_buffer = torch.load(model_path)\n",
    "    else:\n",
    "        dict_buffer = torch.load(model_path, map_location=torch.device('cpu'))\n",
    "    model.load_state_dict(dict_buffer)\n",
    "    if use_cuda:\n",
    "        model = model.cuda()\n",
    "\n",
    "    torch.manual_seed(0)\n",
    "    return model\n",
    "\n",
    "model = load_model('FastJTNNpy3/data/vocab.txt', 'FastJTNNpy3/fast_molvae/vae_model/model.epoch-19', use_cuda=use_cuda)"
   ]
  },
  {
   "cell_type": "code",
   "execution_count": 11,
   "id": "079a0266",
   "metadata": {},
   "outputs": [
    {
     "name": "stderr",
     "output_type": "stream",
     "text": [
      "[12:45:01] Explicit valence for atom # 1 C, 5, is greater than permitted\n",
      "[12:45:01] Explicit valence for atom # 1 C, 5, is greater than permitted\n"
     ]
    },
    {
     "name": "stdout",
     "output_type": "stream",
     "text": [
      "Random Smile:  CON1C=C(C(=O)Nc2cccc([N+](=O)[O-])c2)C=CC1\n"
     ]
    },
    {
     "name": "stderr",
     "output_type": "stream",
     "text": [
      "[12:45:01] Explicit valence for atom # 1 C, 5, is greater than permitted\n"
     ]
    },
    {
     "data": {
      "image/png": "[encoded data removed]",
      "text/plain": [
       "<rdkit.Chem.rdchem.Mol at 0x28a9a9e00>"
      ]
     },
     "execution_count": 11,
     "metadata": {},
     "output_type": "execute_result"
    }
   ],
   "source": [
    "z = torch.randn(1, 56//2)\n",
    "smiles = model.decode(z, z, False)\n",
    "print('Random Smile: ', smiles)\n",
    "Chem.MolFromSmiles(smiles)"
   ]
  },
  {
   "attachments": {},
   "cell_type": "markdown",
   "id": "a7e93b9c",
   "metadata": {},
   "source": [
    "**Exercise:** Use one of the models above to optimize LogP of the generated compounds. There are many possible solutions. For example you can use notebooks in the ReLeaSE repo which demonstrate how REINFORCE can be used to tune the generator, or you can use Bayesian search in the latent space of JT-VAE. The expected result is a shift of LogP distribution in the generated sample."
   ]
  },
  {
   "cell_type": "code",
   "execution_count": 16,
   "id": "510a2993",
   "metadata": {},
   "outputs": [],
   "source": [
    "import pandas as pd\n",
    "import numpy as np\n",
    "import seaborn as sns\n",
    "\n",
    "\n",
    "# Write generated samples to the dataframe below. In the \"model\" column, you should specify which model generated this sample.\n",
    "# For example, you can use \"pre\" for unconstrained generation and \"post\" for optimized logP\n",
    "\n",
    "\n",
    "df = pd.DataFrame({'smiles': ..., 'LogP': ..., 'model': ...})"
   ]
  },
  {
   "cell_type": "code",
   "execution_count": 30,
   "id": "66ed63cb",
   "metadata": {},
   "outputs": [
    {
     "data": {
      "text/plain": [
       "<Axes: xlabel='LogP', ylabel='Density'>"
      ]
     },
     "execution_count": 30,
     "metadata": {},
     "output_type": "execute_result"
    },
    {
     "data": {
      "image/png": "[encoded data removed]",
      "text/plain": [
       "<Figure size 640x480 with 1 Axes>"
      ]
     },
     "metadata": {},
     "output_type": "display_data"
    }
   ],
   "source": [
    "sns.kdeplot(data=df, x='LogP', hue='model', fill=True)"
   ]
  }
 ],
 "metadata": {
  "kernelspec": {
   "display_name": "Python 3 (ipykernel)",
   "language": "python",
   "name": "python3"
  },
  "language_info": {
   "codemirror_mode": {
    "name": "ipython",
    "version": 3
   },
   "file_extension": ".py",
   "mimetype": "text/x-python",
   "name": "python",
   "nbconvert_exporter": "python",
   "pygments_lexer": "ipython3",
   "version": "3.9.16"
  }
 },
 "nbformat": 4,
 "nbformat_minor": 5
}
