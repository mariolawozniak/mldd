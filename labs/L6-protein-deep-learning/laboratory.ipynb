{
 "cells": [
  {
   "cell_type": "markdown",
   "id": "5b188dc5",
   "metadata": {},
   "source": [
    "# Protein deep learning\n",
    "\n",
    "Although proteins are more of an interest for bioinformaticians than for cheminformaticians, they are a crucial element of drug design. Especially the 3D structure of proteins is very important because of its connection to the functioning of these biological machines in the organism.\n",
    "\n",
    "## Protein representations\n",
    "\n",
    "Proteins are chemical compounds, but considering their huge volume, they are often processed in a different way than small molecules. Typical representations are:\n",
    "\n",
    "1. **Amino acid sequence** - proteins are strings of amino acids that can be represented as text, and by adding information about dihedral angles we can encode spatial information; we can process this representation using recurrent neural networks or transformers;\n",
    "![dihedrals](https://upload.wikimedia.org/wikipedia/commons/c/c0/Protein_backbone_PhiPsiOmega_drawing.jpg)\n",
    "2. **Graphs** - this representation is similar to molecular graphs known from the previous notebooks, but in this case to simplify the structure, only α carbons are represented encoding their amino acid residue; this representation can be processed using graph neural networks;\n",
    "3. **Voxel grids** - this representation is constructed by surrounding the protein with a voxel grid (cubes that encode atoms they intersect); usually the voxel size can be set to 1 Å^3 (1 Å = 10^-10 m); this representation can be processed using 3D convolutional neural networks;\n",
    "![voxel](https://journals.plos.org/plosone/article/file?id=10.1371/journal.pone.0221347.g002&type=large)\n",
    "4. **Distance or contact maps** - two-dimensional representation that represents distances between alpha carbons; we can binarize these distances using a selected threshold value, and such maps are called contact maps; this representation can be processed using (2D) convolutional neural networks;\n",
    "![contact](https://upload.wikimedia.org/wikipedia/commons/8/8d/Protein_Contact_Map%2C_2-Color%2C_2QIP-A.png)\n",
    "5. **Point clouds** - sets of not connected points (alpha carbons) encoding selected features (e.g. amino acid codes); this representation can be processed by neural networks adapted to processing point clouds, which are similar to graph neural networks;\n",
    "6. **Meshes** - in this representation we only encode features of the protein surface; a graph is constructed by sampling a grid of points on the surface of proteins (a mesh), and the nodes can encode features related to the amino acids in the vicinity; this representation can be processed by graph neural networks.\n",
    "\n",
    "## Problems that can be solved\n",
    "\n",
    "1. **Inverse protein folding**, also known as protein design - a task that aims to find an amino acid sequence that folds to a given 3D structure;\n",
    "2. **Binding site detection** - discovering cavities in proteins that can be used as binding sites for ligands; it can be realized as 3D grid segmentation using 3D convolutions (e.g. U-Net);\n",
    "3. **Binding affinity prediction** - evaluation of the binding affinity given the ligand-protein complex (e.g. a ligand docked to the crystal structure of a protein).\n",
    "4. **protein-based *de novo* design** - designing new ligands that match the binding site of a given protein.\n",
    "![deepsite](https://encrypted-tbn0.gstatic.com/images?q=tbn:ANd9GcSv_unCC0dhDSQWwQipcKQSEulT064aq-WOnQ&usqp=CAU)"
   ]
  },
  {
   "cell_type": "markdown",
   "id": "c2b8cb94",
   "metadata": {},
   "source": [
    "**Exercise 1:** Implement one of the representations above (the code below can be used to implement 3D voxel grids).\n",
    "\n",
    "**Zadanie 2:** Implement a network that processes this representation (you don't need to train it, it should only return a correct output). In the case of voxel grids: check if your voxel grid can be passed through a 3D convolution (imported from PyTorch), and the output shape is what you expected."
   ]
  },
  {
   "cell_type": "markdown",
   "id": "29e2bf9f",
   "metadata": {},
   "source": [
    "## Przykładowy fragment implementacji wokseli"
   ]
  },
  {
   "cell_type": "code",
   "execution_count": null,
   "id": "57878bea",
   "metadata": {},
   "outputs": [],
   "source": [
    "from rdkit import Chem\n",
    "import numpy as np\n",
    "import matplotlib.pyplot as plt\n",
    "from mpl_toolkits.mplot3d import Axes3D\n",
    "\n",
    "%matplotlib notebook"
   ]
  },
  {
   "cell_type": "code",
   "execution_count": null,
   "id": "6dc45041",
   "metadata": {},
   "outputs": [],
   "source": [
    "symbols = ['C', 'N', 'O', 'S']"
   ]
  },
  {
   "cell_type": "code",
   "execution_count": null,
   "id": "df60498f",
   "metadata": {},
   "outputs": [],
   "source": [
    "# Load protein from a PDB file\n",
    "mol = Chem.MolFromPDBFile('../L4-molecular-docking/4ivt.pdb')\n",
    "pos = ...  # Create a position matrix of dimensions number_of_atoms x 3\n",
    "bounding_box = ...  # Create a bounding box definition, e.g. two corners of the protein bounding box\n",
    "box_size = ...  # Calculate bounding box size (you can use 1 unit as the voxel size)\n",
    "grid = ...  # Create an empty grid with 4 channels (number of symbols) and size corresponding to the bounding box"
   ]
  },
  {
   "cell_type": "code",
   "execution_count": null,
   "id": "f35e0e3f",
   "metadata": {},
   "outputs": [],
   "source": [
    "for i, atom in enumerate(mol.GetAtoms()):\n",
    "    ...  # Map atoms onto the grid, use 1 to mark the corresponding grid position and channel\n",
    "    # tip: you will need the atom symbol and atom position aligned with the grid"
   ]
  },
  {
   "cell_type": "code",
   "execution_count": null,
   "id": "64d8b9ab",
   "metadata": {},
   "outputs": [],
   "source": [
    "# The code below will plot your voxel grid\n",
    "fig = plt.figure(figsize=(7, 5))\n",
    "ax = fig.add_subplot(111, projection='3d')\n",
    "ax.voxels(grid[:, :, :, 0], facecolors='grey', alpha=0.7)\n",
    "ax.voxels(grid[:, :, :, 1], facecolors='blue', alpha=0.7)\n",
    "ax.voxels(grid[:, :, :, 2], facecolors='red', alpha=0.7)\n",
    "ax.voxels(grid[:, :, :, 3], facecolors='orange', alpha=0.7)\n",
    "plt.show()"
   ]
  }
 ],
 "metadata": {
  "kernelspec": {
   "display_name": "Python 3 (ipykernel)",
   "language": "python",
   "name": "python3"
  },
  "language_info": {
   "codemirror_mode": {
    "name": "ipython",
    "version": 3
   },
   "file_extension": ".py",
   "mimetype": "text/x-python",
   "name": "python",
   "nbconvert_exporter": "python",
   "pygments_lexer": "ipython3",
   "version": "3.9.16"
  }
 },
 "nbformat": 4,
 "nbformat_minor": 5
}
