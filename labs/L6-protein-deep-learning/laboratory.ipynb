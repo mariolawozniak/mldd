{
 "cells": [
  {
   "cell_type": "markdown",
   "id": "5b188dc5",
   "metadata": {},
   "source": [
    "# Protein deep learning\n",
    "\n",
    "Although proteins are more of an interest for bioinformaticians than for cheminformaticians, they are a crucial element of drug design. Especially the 3D structure of proteins is very important because of its connection to the functioning of these biological machines in the organism.\n",
    "\n",
    "## Protein representations\n",
    "\n",
    "Proteins are chemical compounds, but considering their huge volume, they are often processed in a different way than small molecules. Typical representations are:\n",
    "\n",
    "1. **Amino acid sequence** - proteins are strings of amino acids that can be represented as text, and by adding information about dihedral angles we can encode spatial information; we can process this representation using recurrent neural networks or transformers;\n",
    "![dihedrals](https://upload.wikimedia.org/wikipedia/commons/c/c0/Protein_backbone_PhiPsiOmega_drawing.jpg)\n",
    "2. **Graphs** - this representation is similar to molecular graphs known from the previous notebooks, but in this case to simplify the structure, only α carbons are represented encoding their amino acid residue; this representation can be processed using graph neural networks;\n",
    "3. **Voxel grids** - this representation is constructed by surrounding the protein with a voxel grid (cubes that encode atoms they intersect); usually the voxel size can be set to 1 Å^3 (1 Å = 10^-10 m); this representation can be processed using 3D convolutional neural networks;\n",
    "![voxel](https://journals.plos.org/plosone/article/file?id=10.1371/journal.pone.0221347.g002&type=large)\n",
    "4. **Distance or contact maps** - two-dimensional representation that represents distances between alpha carbons; we can binarize these distances using a selected threshold value, and such maps are called contact maps; this representation can be processed using (2D) convolutional neural networks;\n",
    "![contact](https://upload.wikimedia.org/wikipedia/commons/8/8d/Protein_Contact_Map%2C_2-Color%2C_2QIP-A.png)\n",
    "5. **Point clouds** - sets of not connected points (alpha carbons) encoding selected features (e.g. amino acid codes); this representation can be processed by neural networks adapted to processing point clouds, which are similar to graph neural networks;\n",
    "6. **Meshes** - in this representation we only encode features of the protein surface; a graph is constructed by sampling a grid of points on the surface of proteins (a mesh), and the nodes can encode features related to the amino acids in the vicinity; this representation can be processed by graph neural networks.\n",
    "\n",
    "## Problems that can be solved\n",
    "\n",
    "1. **Inverse protein folding**, also known as protein design - a task that aims to find an amino acid sequence that folds to a given 3D structure;\n",
    "2. **Binding site detection** - discovering cavities in proteins that can be used as binding sites for ligands; it can be realized as 3D grid segmentation using 3D convolutions (e.g. U-Net);\n",
    "3. **Binding affinity prediction** - evaluation of the binding affinity given the ligand-protein complex (e.g. a ligand docked to the crystal structure of a protein).\n",
    "4. **protein-based *de novo* design** - designing new ligands that match the binding site of a given protein.\n",
    "![deepsite](https://encrypted-tbn0.gstatic.com/images?q=tbn:ANd9GcSv_unCC0dhDSQWwQipcKQSEulT064aq-WOnQ&usqp=CAU)"
   ]
  },
  {
   "cell_type": "markdown",
   "id": "c2b8cb94",
   "metadata": {},
   "source": [
    "**Exercise 1:** Implement one of the representations above (the code below can be used to implement 3D voxel grids).\n",
    "\n",
    "**Zadanie 2:** Implement a network that processes this representation (you don't need to train it, it should only return a correct output). In the case of voxel grids: check if your voxel grid can be passed through a 3D convolution (imported from PyTorch), and the output shape is what you expected."
   ]
  },
  {
   "cell_type": "markdown",
   "id": "29e2bf9f",
   "metadata": {},
   "source": [
    "## Przykładowy fragment implementacji wokseli"
   ]
  },
  {
   "cell_type": "code",
   "execution_count": 5,
   "id": "57878bea",
   "metadata": {},
   "outputs": [],
   "source": [
    "from rdkit import Chem\n",
    "import numpy as np\n",
    "import matplotlib.pyplot as plt\n",
    "from mpl_toolkits.mplot3d import Axes3D\n",
    "\n",
    "%matplotlib notebook"
   ]
  },
  {
   "cell_type": "code",
   "execution_count": 6,
   "id": "6dc45041",
   "metadata": {},
   "outputs": [],
   "source": [
    "symbols = ['C', 'N', 'O', 'S']\n"
   ]
  },
  {
   "cell_type": "code",
   "execution_count": 7,
   "id": "df60498f",
   "metadata": {},
   "outputs": [],
   "source": [
    "# Load protein from a PDB file\n",
    "mol = Chem.MolFromPDBFile('../L4-molecular-docking/4ivt.pdb')"
   ]
  },
  {
   "cell_type": "code",
   "execution_count": 8,
   "id": "aaf81432",
   "metadata": {},
   "outputs": [
    {
     "data": {
      "text/plain": [
       "(2911, 3)"
      ]
     },
     "execution_count": 8,
     "metadata": {},
     "output_type": "execute_result"
    }
   ],
   "source": [
    "pos = mol.GetConformer().GetPositions()\n",
    "pos.shape"
   ]
  },
  {
   "cell_type": "code",
   "execution_count": 9,
   "id": "44e4da2b",
   "metadata": {},
   "outputs": [
    {
     "data": {
      "text/plain": [
       "(array([-10., -11., -12.]), array([55., 49., 35.]))"
      ]
     },
     "execution_count": 9,
     "metadata": {},
     "output_type": "execute_result"
    }
   ],
   "source": [
    "bounding_box  = np.floor(pos.min(axis=0)), np.ceil(pos.max(axis=0))\n",
    "bounding_box"
   ]
  },
  {
   "cell_type": "code",
   "execution_count": 10,
   "id": "25f360c7",
   "metadata": {},
   "outputs": [
    {
     "data": {
      "text/plain": [
       "array([65, 60, 47])"
      ]
     },
     "execution_count": 10,
     "metadata": {},
     "output_type": "execute_result"
    }
   ],
   "source": [
    "box_size = (bounding_box[1] - bounding_box[0]).astype(int)\n",
    "box_size"
   ]
  },
  {
   "cell_type": "code",
   "execution_count": 11,
   "id": "92cce9d1",
   "metadata": {},
   "outputs": [],
   "source": [
    "grid = np.zeros([*box_size, 4])"
   ]
  },
  {
   "cell_type": "code",
   "execution_count": 12,
   "id": "f35e0e3f",
   "metadata": {},
   "outputs": [],
   "source": [
    "for i, atom in enumerate(mol.GetAtoms()):\n",
    "    symbol = atom.GetSymbol()\n",
    "    position = np.floor(pos[i] - bounding_box[0]).astype(int)\n",
    "    grid[position[0], position[1], position[2], symbols.index(symbol)] = 1.\n",
    "\n",
    "\n",
    "    # Map atoms onto the grid, use 1 to mark the corresponding grid position and channel\n",
    "    # tip: you will need the atom symbol and atom position aligned with the grid"
   ]
  },
  {
   "cell_type": "code",
   "execution_count": 13,
   "id": "025be0fd",
   "metadata": {},
   "outputs": [
    {
     "data": {
      "text/plain": [
       "(1.0, 0.0)"
      ]
     },
     "execution_count": 13,
     "metadata": {},
     "output_type": "execute_result"
    }
   ],
   "source": [
    "grid.max(), grid.min()"
   ]
  },
  {
   "cell_type": "code",
   "execution_count": 34,
   "id": "64d8b9ab",
   "metadata": {},
   "outputs": [],
   "source": [
    "# The code below will plot your voxel grid\n",
    "fig = plt.figure(figsize=(7, 5))\n",
    "ax = fig.add_subplot(111, projection='3d')\n",
    "ax.voxels(grid[:, :, :, 0], facecolors='grey', alpha=0.7)\n",
    "ax.voxels(grid[:, :, :, 1], facecolors='blue', alpha=0.7)\n",
    "ax.voxels(grid[:, :, :, 2], facecolors='red', alpha=0.7)\n",
    "ax.voxels(grid[:, :, :, 3], facecolors='orange', alpha=0.7)\n",
    "plt.show()"
   ]
  },
  {
   "cell_type": "code",
   "execution_count": 14,
   "id": "605334d3",
   "metadata": {},
   "outputs": [
    {
     "data": {
      "text/plain": [
       "(65, 60, 47, 4)"
      ]
     },
     "execution_count": 14,
     "metadata": {},
     "output_type": "execute_result"
    }
   ],
   "source": [
    "grid.shape"
   ]
  },
  {
   "cell_type": "code",
   "execution_count": 15,
   "id": "d705c3ad",
   "metadata": {},
   "outputs": [],
   "source": [
    "#deepsite"
   ]
  },
  {
   "cell_type": "code",
   "execution_count": 28,
   "id": "0c2472f9",
   "metadata": {},
   "outputs": [],
   "source": [
    "import torch\n",
    "model = torch.nn.Sequential(\n",
    "    torch.nn.Conv3d(in_channels=4, out_channels=32, kernel_size=8, padding=2),\n",
    "    torch.nn.ELU(),\n",
    "    torch.nn.Conv3d(in_channels=32, out_channels=48, kernel_size=4, padding=1),\n",
    "    torch.nn.ELU(),\n",
    "    torch.nn.MaxPool3d(kernel_size=2),\n",
    "    torch.nn.Dropout3d(0.25),\n",
    "    torch.nn.Flatten(),\n",
    "    torch.nn.Linear(in_features=10368, out_features=256),\n",
    "    torch.nn.ELU(),\n",
    "    torch.nn.Linear(in_features=256, out_features=1),\n",
    "    torch.nn.Sigmoid()\n",
    ")"
   ]
  },
  {
   "cell_type": "code",
   "execution_count": 29,
   "id": "0f5a1d84",
   "metadata": {},
   "outputs": [],
   "source": [
    "x = torch.FloatTensor(grid[:16, :16 ,:16, :]).unsqueeze(0).movedim(4,1)"
   ]
  },
  {
   "cell_type": "code",
   "execution_count": 30,
   "id": "044f2ac5",
   "metadata": {},
   "outputs": [
    {
     "data": {
      "text/plain": [
       "tensor([[0.5130]], grad_fn=<SigmoidBackward0>)"
      ]
     },
     "execution_count": 30,
     "metadata": {},
     "output_type": "execute_result"
    }
   ],
   "source": [
    "model(x)"
   ]
  },
  {
   "cell_type": "code",
   "execution_count": null,
   "id": "348b4e63",
   "metadata": {},
   "outputs": [],
   "source": []
  }
 ],
 "metadata": {
  "kernelspec": {
   "display_name": "Python 3 (ipykernel)",
   "language": "python",
   "name": "python3"
  },
  "language_info": {
   "codemirror_mode": {
    "name": "ipython",
    "version": 3
   },
   "file_extension": ".py",
   "mimetype": "text/x-python",
   "name": "python",
   "nbconvert_exporter": "python",
   "pygments_lexer": "ipython3",
   "version": "3.9.16"
  }
 },
 "nbformat": 4,
 "nbformat_minor": 5
}
